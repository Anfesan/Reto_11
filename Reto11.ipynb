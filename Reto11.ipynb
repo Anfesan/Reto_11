{
 "cells": [
  {
   "cell_type": "code",
   "execution_count": 28,
   "metadata": {},
   "outputs": [
    {
     "name": "stdout",
     "output_type": "stream",
     "text": [
      "[[9, 7, 5], [5, 10, 11], [5, 12, 10], [4, 8, 11]]\n"
     ]
    }
   ],
   "source": [
    "#Desarrolle un programa que permita realizar la suma/resta de matrices. \n",
    "matriz_a=[[1,1,2],[3,4,2],[3,6,3],[1,2,3]]\n",
    "matriz_b=[[8,6,3],[2,6,9],[2,6,7],[3,6,8]]\n",
    "comparador=True\n",
    "if len(matriz_a)==len(matriz_b):\n",
    "    for i in range(len(matriz_a)):\n",
    "        for j in range(len(matriz_a[i])):\n",
    "            if comparador==False:\n",
    "                break\n",
    "            comparador=(len(matriz_a[i])==len(matriz_b[i]))\n",
    "    if comparador==False:\n",
    "        print(\"Matriz de diferente dimension\")\n",
    "    elif comparador:\n",
    "        matriz_suma=[[matriz_b[i][j]+matriz_a[i][j] for j in range(0,(len(matriz_a[0])))]for i in range(0,len(matriz_a))]  \n",
    "        print(matriz_suma)   \n",
    "else:\n",
    "    print(\"Matriz de diferente dimension\")\n",
    "\n"
   ]
  },
  {
   "cell_type": "code",
   "execution_count": 76,
   "metadata": {},
   "outputs": [
    {
     "name": "stdout",
     "output_type": "stream",
     "text": [
      "[[2, 6, 74, 34], [4, 12, 148, 68], [6, 18, 222, 102], [6, 18, 222, 102], [14, 42, 518, 238]]\n"
     ]
    }
   ],
   "source": [
    "#Desarrolle un programa que permita realizar la suma/resta de matrices. \n",
    "matriz_a=[[1,1,1],[3,4,2],[3,6,3],[1,2,3],[2,6,7]]\n",
    "matriz_b=[[8,6,3,9],[2,6,9,6],[2,6,74,34]]\n",
    "matriz_punto=[[0 for i in range(len(matriz_b[0]))] for i in range(len(matriz_a))]\n",
    "comp_a=len(matriz_a[0])\n",
    "comp_b =len(matriz_b[0])  \n",
    "comparador=True\n",
    "for i in range(len(matriz_a)):\n",
    "        if comparador==False:\n",
    "            print(\"Matriz Incompatible\")\n",
    "            break\n",
    "        comparador=(comp_a==len(matriz_a[i]))\n",
    "        comp_a=len(matriz_a[i])  \n",
    "if comparador:\n",
    "    for i in range(len(matriz_b)):\n",
    "            if comparador==False:\n",
    "                print(\"matriz incompatible\")\n",
    "                break\n",
    "            comparador=(comp_b==len(matriz_b[i]))\n",
    "            comp_b=len(matriz_b[i])  \n",
    "    if len(matriz_a[0])==len(matriz_b):\n",
    "        for i in range(len(matriz_a)): \n",
    "            for j  in range(len(matriz_b[0])):\n",
    "                for k in range(len(matriz_a[0])):\n",
    "                    matriz_punto[i][j]=matriz_a[i][k]*matriz_b[k][j]\n",
    "\n",
    "print(matriz_punto)            "
   ]
  }
 ],
 "metadata": {
  "kernelspec": {
   "display_name": "Python 3",
   "language": "python",
   "name": "python3"
  },
  "language_info": {
   "codemirror_mode": {
    "name": "ipython",
    "version": 3
   },
   "file_extension": ".py",
   "mimetype": "text/x-python",
   "name": "python",
   "nbconvert_exporter": "python",
   "pygments_lexer": "ipython3",
   "version": "3.12.2"
  }
 },
 "nbformat": 4,
 "nbformat_minor": 2
}
